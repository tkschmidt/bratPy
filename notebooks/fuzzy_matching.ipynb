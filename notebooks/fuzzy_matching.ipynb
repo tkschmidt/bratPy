{
 "cells": [
  {
   "cell_type": "code",
   "execution_count": 1,
   "id": "7e632e84-1959-4dca-980d-40b22d8cd6a5",
   "metadata": {},
   "outputs": [],
   "source": [
    "from fuzzysearch import find_near_matches"
   ]
  },
  {
   "cell_type": "code",
   "execution_count": 2,
   "id": "2a7b7501-2816-468e-9979-946a139645bd",
   "metadata": {},
   "outputs": [],
   "source": [
    "text = \"\"\"Sample preparation for mass spectrometry. Dried peptide pools\n",
    "were initially solubilized in 100% DMSO to a concentration of\n",
    "10 pmol/µl by vortexing for 30 min at room temperature. The\n",
    "pools were then diluted to 10% DMSO using 1% formic acid in\n",
    "HPLCgrade water to a stock solution concentration of 1 pmol/µl\n",
    "and stored at −20 °C until use. 10 µl of the stock solution was\n",
    "transferred to a 96well plate and spiked with two retention\n",
    "time (RT) standards. The first set of RT peptides (JPT Peptide\n",
    "Technologies) consisted of 66 peptides with nonnaturally occurring peptide sequences (Supplementary Table 1). 200 fmol\n",
    "per peptide was used per injection. The second RT standard\n",
    "(Pierce, Thermo Scientific) comprised 15 13Clabeled peptides, and 100 fmol per peptide was used per injection. Samples\n",
    "in the resulting 96well plates were vacuum dried and stored\n",
    "at −20 °C until use\"\"\""
   ]
  },
  {
   "cell_type": "code",
   "execution_count": 13,
   "id": "315acba9-e975-4846-ada7-9401a3e954ad",
   "metadata": {},
   "outputs": [],
   "source": [
    "query = \"-20 C\""
   ]
  },
  {
   "cell_type": "code",
   "execution_count": 14,
   "id": "a4f384c8-001c-4d8b-82bb-6c9687ed4538",
   "metadata": {},
   "outputs": [],
   "source": [
    "matches = find_near_matches(query, text, max_l_dist=2)"
   ]
  },
  {
   "cell_type": "code",
   "execution_count": 15,
   "id": "2ade9100-a478-403a-892a-f7718faf6cab",
   "metadata": {},
   "outputs": [
    {
     "name": "stdout",
     "output_type": "stream",
     "text": [
      "Match(start=321, end=327, dist=1, matched='−20 °C')\n",
      "Match(start=854, end=860, dist=1, matched='−20 °C')\n"
     ]
    }
   ],
   "source": [
    "for match in matches:\n",
    "    print(match)"
   ]
  },
  {
   "cell_type": "code",
   "execution_count": null,
   "id": "f1dbd273-c1d3-41f2-b9f9-f63b56112c81",
   "metadata": {},
   "outputs": [],
   "source": []
  },
  {
   "cell_type": "code",
   "execution_count": null,
   "id": "2374e296-da08-4b1d-9575-15fa0678e170",
   "metadata": {},
   "outputs": [],
   "source": []
  },
  {
   "cell_type": "code",
   "execution_count": null,
   "id": "4d25132f-6cf5-4262-9745-92760d4de3d6",
   "metadata": {},
   "outputs": [],
   "source": []
  }
 ],
 "metadata": {
  "kernelspec": {
   "display_name": "Python 3 (ipykernel)",
   "language": "python",
   "name": "python3"
  },
  "language_info": {
   "codemirror_mode": {
    "name": "ipython",
    "version": 3
   },
   "file_extension": ".py",
   "mimetype": "text/x-python",
   "name": "python",
   "nbconvert_exporter": "python",
   "pygments_lexer": "ipython3",
   "version": "3.13.0"
  }
 },
 "nbformat": 4,
 "nbformat_minor": 5
}
